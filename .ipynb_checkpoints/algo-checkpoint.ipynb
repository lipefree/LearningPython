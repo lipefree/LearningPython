{
 "cells": [
  {
   "cell_type": "markdown",
   "id": "88656b44-a96d-4ba7-8e44-93cec6a76a5d",
   "metadata": {},
   "source": [
    "How to use the notebook : \n",
    "\n",
    "1) Read instructions\n",
    "2) Try to implement a solution \n",
    "3) run tests\n",
    "\n",
    "Here is the example : \n",
    "\n",
    "Instructions : \n",
    "    Do a function that returns 1 !"
   ]
  },
  {
   "cell_type": "code",
   "execution_count": null,
   "id": "23804d6c-c5f4-4064-b311-5b85aaa2f75d",
   "metadata": {},
   "outputs": [],
   "source": [
    "def f():\n",
    "    return 1\n",
    "\n",
    "#The implementation is already given as it is the example !"
   ]
  }
 ],
 "metadata": {
  "kernelspec": {
   "display_name": "Python 3",
   "language": "python",
   "name": "python3"
  },
  "language_info": {
   "codemirror_mode": {
    "name": "ipython",
    "version": 3
   },
   "file_extension": ".py",
   "mimetype": "text/x-python",
   "name": "python",
   "nbconvert_exporter": "python",
   "pygments_lexer": "ipython3",
   "version": "3.8.8"
  }
 },
 "nbformat": 4,
 "nbformat_minor": 5
}
