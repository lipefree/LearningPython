{
 "cells": [
  {
   "cell_type": "markdown",
   "id": "88656b44-a96d-4ba7-8e44-93cec6a76a5d",
   "metadata": {},
   "source": [
    "How to use the notebook : \n",
    "\n",
    "1) Read instructions\n",
    "2) Try to implement a solution \n",
    "3) run tests\n",
    "\n",
    "Here is the example : \n",
    "\n",
    "Exercice 0: \n",
    "\n",
    "Instructions : \n",
    "    Do a function that returns 1 !"
   ]
  },
  {
   "cell_type": "code",
   "execution_count": 9,
   "id": "23804d6c-c5f4-4064-b311-5b85aaa2f75d",
   "metadata": {},
   "outputs": [],
   "source": [
    "def f():\n",
    "    return 1\n",
    "\n",
    "#The implementation is already given as it is the example !"
   ]
  },
  {
   "cell_type": "code",
   "execution_count": 10,
   "id": "07ffb121-4d09-4ce3-83f8-e380679f0e2e",
   "metadata": {},
   "outputs": [
    {
     "name": "stdout",
     "output_type": "stream",
     "text": [
      "All tests are ok\n"
     ]
    }
   ],
   "source": [
    "#test zone for exercice 0\n",
    "\n",
    "if(f() == 1):\n",
    "    print(\"All tests are ok\")\n",
    "else:\n",
    "    print(\"f does not return 1\")"
   ]
  },
  {
   "cell_type": "markdown",
   "id": "e450031e-0316-4160-9403-4a19783e2b84",
   "metadata": {},
   "source": [
    "Exercice 1:\n",
    "    On va faire une petite review sur les boubles for \n",
    "    et comment acceder aux listes !\n",
    "\n",
    "Instructions: \n",
    "    Ecrire la fonction qui prend une liste en argument, va retourner l'element le plus petit ET l'element le plus grand\n",
    "    \n",
    "Examples:\n",
    "    1) l = [1,2,3] \n",
    "        max_min(l) = (1,3),\n",
    "    2) l1 = [-10, 0, 3]\n",
    "        max_min(l1) = (-10, 3),\n",
    "    3) l2 = [1] // This is a special case to take into account !\n",
    "        max_min = (0,1) \n",
    "    "
   ]
  },
  {
   "cell_type": "code",
   "execution_count": 3,
   "id": "e6354186-ec4c-4436-bae5-469d8b3ddf20",
   "metadata": {},
   "outputs": [],
   "source": [
    "def max_min(l):\n",
    "    ...\n",
    "    \n"
   ]
  },
  {
   "cell_type": "code",
   "execution_count": null,
   "id": "96181997-46fe-4b14-a8c1-28aad0647adf",
   "metadata": {},
   "outputs": [],
   "source": [
    "#test zone for exercice 1\n",
    "\n"
   ]
  }
 ],
 "metadata": {
  "kernelspec": {
   "display_name": "Python 3",
   "language": "python",
   "name": "python3"
  },
  "language_info": {
   "codemirror_mode": {
    "name": "ipython",
    "version": 3
   },
   "file_extension": ".py",
   "mimetype": "text/x-python",
   "name": "python",
   "nbconvert_exporter": "python",
   "pygments_lexer": "ipython3",
   "version": "3.8.8"
  }
 },
 "nbformat": 4,
 "nbformat_minor": 5
}
